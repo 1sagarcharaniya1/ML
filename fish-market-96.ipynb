{
 "cells": [
  {
   "cell_type": "code",
   "execution_count": 1,
   "id": "9a68f8b4",
   "metadata": {
    "execution": {
     "iopub.execute_input": "2023-02-20T13:46:49.630600Z",
     "iopub.status.busy": "2023-02-20T13:46:49.629790Z",
     "iopub.status.idle": "2023-02-20T13:46:50.618932Z",
     "shell.execute_reply": "2023-02-20T13:46:50.617423Z"
    },
    "papermill": {
     "duration": 1.006739,
     "end_time": "2023-02-20T13:46:50.623023",
     "exception": false,
     "start_time": "2023-02-20T13:46:49.616284",
     "status": "completed"
    },
    "tags": []
   },
   "outputs": [],
   "source": [
    "import pandas as pd\n",
    "import numpy as np\n",
    "import matplotlib.pyplot as plt\n",
    "import seaborn as sns"
   ]
  },
  {
   "cell_type": "code",
   "execution_count": 2,
   "id": "66bf23aa",
   "metadata": {
    "execution": {
     "iopub.execute_input": "2023-02-20T13:46:50.654231Z",
     "iopub.status.busy": "2023-02-20T13:46:50.652828Z",
     "iopub.status.idle": "2023-02-20T13:46:50.705619Z",
     "shell.execute_reply": "2023-02-20T13:46:50.704222Z"
    },
    "papermill": {
     "duration": 0.073434,
     "end_time": "2023-02-20T13:46:50.708703",
     "exception": false,
     "start_time": "2023-02-20T13:46:50.635269",
     "status": "completed"
    },
    "tags": []
   },
   "outputs": [
    {
     "data": {
      "text/html": [
       "<div>\n",
       "<style scoped>\n",
       "    .dataframe tbody tr th:only-of-type {\n",
       "        vertical-align: middle;\n",
       "    }\n",
       "\n",
       "    .dataframe tbody tr th {\n",
       "        vertical-align: top;\n",
       "    }\n",
       "\n",
       "    .dataframe thead th {\n",
       "        text-align: right;\n",
       "    }\n",
       "</style>\n",
       "<table border=\"1\" class=\"dataframe\">\n",
       "  <thead>\n",
       "    <tr style=\"text-align: right;\">\n",
       "      <th></th>\n",
       "      <th>Species</th>\n",
       "      <th>Weight</th>\n",
       "      <th>Length1</th>\n",
       "      <th>Length2</th>\n",
       "      <th>Length3</th>\n",
       "      <th>Height</th>\n",
       "      <th>Width</th>\n",
       "    </tr>\n",
       "  </thead>\n",
       "  <tbody>\n",
       "    <tr>\n",
       "      <th>0</th>\n",
       "      <td>Bream</td>\n",
       "      <td>242.0</td>\n",
       "      <td>23.2</td>\n",
       "      <td>25.4</td>\n",
       "      <td>30.0</td>\n",
       "      <td>11.5200</td>\n",
       "      <td>4.0200</td>\n",
       "    </tr>\n",
       "    <tr>\n",
       "      <th>1</th>\n",
       "      <td>Bream</td>\n",
       "      <td>290.0</td>\n",
       "      <td>24.0</td>\n",
       "      <td>26.3</td>\n",
       "      <td>31.2</td>\n",
       "      <td>12.4800</td>\n",
       "      <td>4.3056</td>\n",
       "    </tr>\n",
       "    <tr>\n",
       "      <th>2</th>\n",
       "      <td>Bream</td>\n",
       "      <td>340.0</td>\n",
       "      <td>23.9</td>\n",
       "      <td>26.5</td>\n",
       "      <td>31.1</td>\n",
       "      <td>12.3778</td>\n",
       "      <td>4.6961</td>\n",
       "    </tr>\n",
       "    <tr>\n",
       "      <th>3</th>\n",
       "      <td>Bream</td>\n",
       "      <td>363.0</td>\n",
       "      <td>26.3</td>\n",
       "      <td>29.0</td>\n",
       "      <td>33.5</td>\n",
       "      <td>12.7300</td>\n",
       "      <td>4.4555</td>\n",
       "    </tr>\n",
       "    <tr>\n",
       "      <th>4</th>\n",
       "      <td>Bream</td>\n",
       "      <td>430.0</td>\n",
       "      <td>26.5</td>\n",
       "      <td>29.0</td>\n",
       "      <td>34.0</td>\n",
       "      <td>12.4440</td>\n",
       "      <td>5.1340</td>\n",
       "    </tr>\n",
       "  </tbody>\n",
       "</table>\n",
       "</div>"
      ],
      "text/plain": [
       "  Species  Weight  Length1  Length2  Length3   Height   Width\n",
       "0   Bream   242.0     23.2     25.4     30.0  11.5200  4.0200\n",
       "1   Bream   290.0     24.0     26.3     31.2  12.4800  4.3056\n",
       "2   Bream   340.0     23.9     26.5     31.1  12.3778  4.6961\n",
       "3   Bream   363.0     26.3     29.0     33.5  12.7300  4.4555\n",
       "4   Bream   430.0     26.5     29.0     34.0  12.4440  5.1340"
      ]
     },
     "execution_count": 2,
     "metadata": {},
     "output_type": "execute_result"
    }
   ],
   "source": [
    "df = pd.read_csv('/kaggle/input/fish-market/Fish.csv')\n",
    "df.head()"
   ]
  },
  {
   "cell_type": "markdown",
   "id": "e452eee3",
   "metadata": {
    "papermill": {
     "duration": 0.009787,
     "end_time": "2023-02-20T13:46:50.728728",
     "exception": false,
     "start_time": "2023-02-20T13:46:50.718941",
     "status": "completed"
    },
    "tags": []
   },
   "source": [
    "# Data not Cotain Dublivate Value"
   ]
  },
  {
   "cell_type": "code",
   "execution_count": 3,
   "id": "1a8d16ba",
   "metadata": {
    "execution": {
     "iopub.execute_input": "2023-02-20T13:46:50.751404Z",
     "iopub.status.busy": "2023-02-20T13:46:50.750749Z",
     "iopub.status.idle": "2023-02-20T13:46:50.769170Z",
     "shell.execute_reply": "2023-02-20T13:46:50.767887Z"
    },
    "papermill": {
     "duration": 0.032418,
     "end_time": "2023-02-20T13:46:50.771648",
     "exception": false,
     "start_time": "2023-02-20T13:46:50.739230",
     "status": "completed"
    },
    "tags": []
   },
   "outputs": [
    {
     "data": {
      "text/plain": [
       "False    159\n",
       "dtype: int64"
      ]
     },
     "execution_count": 3,
     "metadata": {},
     "output_type": "execute_result"
    }
   ],
   "source": [
    "df.duplicated().value_counts()"
   ]
  },
  {
   "cell_type": "markdown",
   "id": "028d5dea",
   "metadata": {
    "papermill": {
     "duration": 0.010171,
     "end_time": "2023-02-20T13:46:50.792197",
     "exception": false,
     "start_time": "2023-02-20T13:46:50.782026",
     "status": "completed"
    },
    "tags": []
   },
   "source": [
    "# Data Dont Have Missing Value"
   ]
  },
  {
   "cell_type": "code",
   "execution_count": 4,
   "id": "5dca11cb",
   "metadata": {
    "execution": {
     "iopub.execute_input": "2023-02-20T13:46:50.815136Z",
     "iopub.status.busy": "2023-02-20T13:46:50.814740Z",
     "iopub.status.idle": "2023-02-20T13:46:50.824326Z",
     "shell.execute_reply": "2023-02-20T13:46:50.823139Z"
    },
    "papermill": {
     "duration": 0.024848,
     "end_time": "2023-02-20T13:46:50.827398",
     "exception": false,
     "start_time": "2023-02-20T13:46:50.802550",
     "status": "completed"
    },
    "tags": []
   },
   "outputs": [
    {
     "data": {
      "text/plain": [
       "Species    0\n",
       "Weight     0\n",
       "Length1    0\n",
       "Length2    0\n",
       "Length3    0\n",
       "Height     0\n",
       "Width      0\n",
       "dtype: int64"
      ]
     },
     "execution_count": 4,
     "metadata": {},
     "output_type": "execute_result"
    }
   ],
   "source": [
    "df.isnull().sum()"
   ]
  },
  {
   "cell_type": "code",
   "execution_count": 5,
   "id": "509dfd40",
   "metadata": {
    "execution": {
     "iopub.execute_input": "2023-02-20T13:46:50.851500Z",
     "iopub.status.busy": "2023-02-20T13:46:50.851117Z",
     "iopub.status.idle": "2023-02-20T13:46:50.856529Z",
     "shell.execute_reply": "2023-02-20T13:46:50.855469Z"
    },
    "papermill": {
     "duration": 0.021092,
     "end_time": "2023-02-20T13:46:50.859274",
     "exception": false,
     "start_time": "2023-02-20T13:46:50.838182",
     "status": "completed"
    },
    "tags": []
   },
   "outputs": [
    {
     "name": "stdout",
     "output_type": "stream",
     "text": [
      "['Species', 'Weight', 'Length1', 'Length2', 'Length3', 'Height', 'Width']\n"
     ]
    }
   ],
   "source": [
    "print(df.columns.to_list())"
   ]
  },
  {
   "cell_type": "code",
   "execution_count": 6,
   "id": "1156f74e",
   "metadata": {
    "execution": {
     "iopub.execute_input": "2023-02-20T13:46:50.882921Z",
     "iopub.status.busy": "2023-02-20T13:46:50.881609Z",
     "iopub.status.idle": "2023-02-20T13:46:50.892956Z",
     "shell.execute_reply": "2023-02-20T13:46:50.891647Z"
    },
    "papermill": {
     "duration": 0.025327,
     "end_time": "2023-02-20T13:46:50.895349",
     "exception": false,
     "start_time": "2023-02-20T13:46:50.870022",
     "status": "completed"
    },
    "tags": []
   },
   "outputs": [
    {
     "data": {
      "text/plain": [
       "Perch        56\n",
       "Bream        35\n",
       "Roach        20\n",
       "Pike         17\n",
       "Smelt        14\n",
       "Parkki       11\n",
       "Whitefish     6\n",
       "Name: Species, dtype: int64"
      ]
     },
     "execution_count": 6,
     "metadata": {},
     "output_type": "execute_result"
    }
   ],
   "source": [
    "df['Species'].value_counts()"
   ]
  },
  {
   "cell_type": "code",
   "execution_count": 7,
   "id": "05fcab04",
   "metadata": {
    "execution": {
     "iopub.execute_input": "2023-02-20T13:46:50.918097Z",
     "iopub.status.busy": "2023-02-20T13:46:50.917691Z",
     "iopub.status.idle": "2023-02-20T13:46:51.182080Z",
     "shell.execute_reply": "2023-02-20T13:46:51.180894Z"
    },
    "papermill": {
     "duration": 0.279036,
     "end_time": "2023-02-20T13:46:51.184774",
     "exception": false,
     "start_time": "2023-02-20T13:46:50.905738",
     "status": "completed"
    },
    "tags": []
   },
   "outputs": [
    {
     "data": {
      "image/png": "[encoded data removed]",
      "text/plain": [
       "<Figure size 640x480 with 1 Axes>"
      ]
     },
     "metadata": {},
     "output_type": "display_data"
    }
   ],
   "source": [
    "sns.countplot(x=df.Species)\n",
    "plt.show()"
   ]
  },
  {
   "cell_type": "code",
   "execution_count": 8,
   "id": "04f2a1d7",
   "metadata": {
    "execution": {
     "iopub.execute_input": "2023-02-20T13:46:51.210053Z",
     "iopub.status.busy": "2023-02-20T13:46:51.209649Z",
     "iopub.status.idle": "2023-02-20T13:46:51.700101Z",
     "shell.execute_reply": "2023-02-20T13:46:51.698872Z"
    },
    "papermill": {
     "duration": 0.506284,
     "end_time": "2023-02-20T13:46:51.702422",
     "exception": false,
     "start_time": "2023-02-20T13:46:51.196138",
     "status": "completed"
    },
    "tags": []
   },
   "outputs": [
    {
     "data": {
      "text/plain": [
       "<AxesSubplot:>"
      ]
     },
     "execution_count": 8,
     "metadata": {},
     "output_type": "execute_result"
    },
    {
     "data": {
      "image/png": "[encoded data removed]",
      "text/plain": [
       "<Figure size 640x480 with 2 Axes>"
      ]
     },
     "metadata": {},
     "output_type": "display_data"
    }
   ],
   "source": [
    "sns.heatmap(df.corr(),annot=True)"
   ]
  },
  {
   "cell_type": "code",
   "execution_count": 9,
   "id": "5739a1ed",
   "metadata": {
    "execution": {
     "iopub.execute_input": "2023-02-20T13:46:51.727768Z",
     "iopub.status.busy": "2023-02-20T13:46:51.727341Z",
     "iopub.status.idle": "2023-02-20T13:46:51.736849Z",
     "shell.execute_reply": "2023-02-20T13:46:51.735706Z"
    },
    "papermill": {
     "duration": 0.024977,
     "end_time": "2023-02-20T13:46:51.739171",
     "exception": false,
     "start_time": "2023-02-20T13:46:51.714194",
     "status": "completed"
    },
    "tags": []
   },
   "outputs": [],
   "source": [
    "df[\"Mean\"] = df['Length1'] + df['Length2'] + df['Length3'] / 3\n",
    "df.drop(columns=['Length1','Length2','Length3'],inplace=True)"
   ]
  },
  {
   "cell_type": "code",
   "execution_count": 10,
   "id": "f58bcb5f",
   "metadata": {
    "execution": {
     "iopub.execute_input": "2023-02-20T13:46:51.764870Z",
     "iopub.status.busy": "2023-02-20T13:46:51.764409Z",
     "iopub.status.idle": "2023-02-20T13:46:51.779760Z",
     "shell.execute_reply": "2023-02-20T13:46:51.778624Z"
    },
    "papermill": {
     "duration": 0.031234,
     "end_time": "2023-02-20T13:46:51.782149",
     "exception": false,
     "start_time": "2023-02-20T13:46:51.750915",
     "status": "completed"
    },
    "tags": []
   },
   "outputs": [
    {
     "data": {
      "text/html": [
       "<div>\n",
       "<style scoped>\n",
       "    .dataframe tbody tr th:only-of-type {\n",
       "        vertical-align: middle;\n",
       "    }\n",
       "\n",
       "    .dataframe tbody tr th {\n",
       "        vertical-align: top;\n",
       "    }\n",
       "\n",
       "    .dataframe thead th {\n",
       "        text-align: right;\n",
       "    }\n",
       "</style>\n",
       "<table border=\"1\" class=\"dataframe\">\n",
       "  <thead>\n",
       "    <tr style=\"text-align: right;\">\n",
       "      <th></th>\n",
       "      <th>Species</th>\n",
       "      <th>Mean</th>\n",
       "      <th>Height</th>\n",
       "      <th>Width</th>\n",
       "      <th>Weight</th>\n",
       "    </tr>\n",
       "  </thead>\n",
       "  <tbody>\n",
       "    <tr>\n",
       "      <th>0</th>\n",
       "      <td>Bream</td>\n",
       "      <td>58.600000</td>\n",
       "      <td>11.5200</td>\n",
       "      <td>4.0200</td>\n",
       "      <td>242.0</td>\n",
       "    </tr>\n",
       "    <tr>\n",
       "      <th>1</th>\n",
       "      <td>Bream</td>\n",
       "      <td>60.700000</td>\n",
       "      <td>12.4800</td>\n",
       "      <td>4.3056</td>\n",
       "      <td>290.0</td>\n",
       "    </tr>\n",
       "    <tr>\n",
       "      <th>2</th>\n",
       "      <td>Bream</td>\n",
       "      <td>60.766667</td>\n",
       "      <td>12.3778</td>\n",
       "      <td>4.6961</td>\n",
       "      <td>340.0</td>\n",
       "    </tr>\n",
       "    <tr>\n",
       "      <th>3</th>\n",
       "      <td>Bream</td>\n",
       "      <td>66.466667</td>\n",
       "      <td>12.7300</td>\n",
       "      <td>4.4555</td>\n",
       "      <td>363.0</td>\n",
       "    </tr>\n",
       "    <tr>\n",
       "      <th>4</th>\n",
       "      <td>Bream</td>\n",
       "      <td>66.833333</td>\n",
       "      <td>12.4440</td>\n",
       "      <td>5.1340</td>\n",
       "      <td>430.0</td>\n",
       "    </tr>\n",
       "  </tbody>\n",
       "</table>\n",
       "</div>"
      ],
      "text/plain": [
       "  Species       Mean   Height   Width  Weight\n",
       "0   Bream  58.600000  11.5200  4.0200   242.0\n",
       "1   Bream  60.700000  12.4800  4.3056   290.0\n",
       "2   Bream  60.766667  12.3778  4.6961   340.0\n",
       "3   Bream  66.466667  12.7300  4.4555   363.0\n",
       "4   Bream  66.833333  12.4440  5.1340   430.0"
      ]
     },
     "execution_count": 10,
     "metadata": {},
     "output_type": "execute_result"
    }
   ],
   "source": [
    "df=df[['Species','Mean','Height','Width','Weight']]\n",
    "df.head()"
   ]
  },
  {
   "cell_type": "code",
   "execution_count": 11,
   "id": "8e30055d",
   "metadata": {
    "execution": {
     "iopub.execute_input": "2023-02-20T13:46:51.809360Z",
     "iopub.status.busy": "2023-02-20T13:46:51.808983Z",
     "iopub.status.idle": "2023-02-20T13:46:52.166181Z",
     "shell.execute_reply": "2023-02-20T13:46:52.164809Z"
    },
    "papermill": {
     "duration": 0.374184,
     "end_time": "2023-02-20T13:46:52.168773",
     "exception": false,
     "start_time": "2023-02-20T13:46:51.794589",
     "status": "completed"
    },
    "tags": []
   },
   "outputs": [
    {
     "data": {
      "text/plain": [
       "<AxesSubplot:>"
      ]
     },
     "execution_count": 11,
     "metadata": {},
     "output_type": "execute_result"
    },
    {
     "data": {
      "image/png": "[encoded data removed]",
      "text/plain": [
       "<Figure size 640x480 with 2 Axes>"
      ]
     },
     "metadata": {},
     "output_type": "display_data"
    }
   ],
   "source": [
    "sns.heatmap(df.corr(),annot=True)"
   ]
  },
  {
   "cell_type": "code",
   "execution_count": 12,
   "id": "af9eac40",
   "metadata": {
    "execution": {
     "iopub.execute_input": "2023-02-20T13:46:52.196765Z",
     "iopub.status.busy": "2023-02-20T13:46:52.195462Z",
     "iopub.status.idle": "2023-02-20T13:46:52.201394Z",
     "shell.execute_reply": "2023-02-20T13:46:52.200301Z"
    },
    "papermill": {
     "duration": 0.022331,
     "end_time": "2023-02-20T13:46:52.204070",
     "exception": false,
     "start_time": "2023-02-20T13:46:52.181739",
     "status": "completed"
    },
    "tags": []
   },
   "outputs": [],
   "source": [
    "# We Are Getting Preticular Fish Mean of Weight, Length1, Length2, Length3, Height, Width"
   ]
  },
  {
   "cell_type": "code",
   "execution_count": 13,
   "id": "cbc36f60",
   "metadata": {
    "execution": {
     "iopub.execute_input": "2023-02-20T13:46:52.231834Z",
     "iopub.status.busy": "2023-02-20T13:46:52.231347Z",
     "iopub.status.idle": "2023-02-20T13:46:52.253557Z",
     "shell.execute_reply": "2023-02-20T13:46:52.252117Z"
    },
    "papermill": {
     "duration": 0.03961,
     "end_time": "2023-02-20T13:46:52.256433",
     "exception": false,
     "start_time": "2023-02-20T13:46:52.216823",
     "status": "completed"
    },
    "tags": []
   },
   "outputs": [
    {
     "name": "stderr",
     "output_type": "stream",
     "text": [
      "/opt/conda/lib/python3.7/site-packages/ipykernel_launcher.py:1: FutureWarning: Indexing with multiple keys (implicitly converted to a tuple of keys) will be deprecated, use a list instead.\n",
      "  \"\"\"Entry point for launching an IPython kernel.\n"
     ]
    },
    {
     "data": {
      "text/html": [
       "<div>\n",
       "<style scoped>\n",
       "    .dataframe tbody tr th:only-of-type {\n",
       "        vertical-align: middle;\n",
       "    }\n",
       "\n",
       "    .dataframe tbody tr th {\n",
       "        vertical-align: top;\n",
       "    }\n",
       "\n",
       "    .dataframe thead th {\n",
       "        text-align: right;\n",
       "    }\n",
       "</style>\n",
       "<table border=\"1\" class=\"dataframe\">\n",
       "  <thead>\n",
       "    <tr style=\"text-align: right;\">\n",
       "      <th></th>\n",
       "      <th>Weight</th>\n",
       "      <th>Mean</th>\n",
       "      <th>Height</th>\n",
       "      <th>Width</th>\n",
       "    </tr>\n",
       "    <tr>\n",
       "      <th>Species</th>\n",
       "      <th></th>\n",
       "      <th></th>\n",
       "      <th></th>\n",
       "      <th></th>\n",
       "    </tr>\n",
       "  </thead>\n",
       "  <tbody>\n",
       "    <tr>\n",
       "      <th>Bream</th>\n",
       "      <td>617.828571</td>\n",
       "      <td>76.199048</td>\n",
       "      <td>15.183211</td>\n",
       "      <td>5.427614</td>\n",
       "    </tr>\n",
       "    <tr>\n",
       "      <th>Parkki</th>\n",
       "      <td>154.818182</td>\n",
       "      <td>46.669697</td>\n",
       "      <td>8.962427</td>\n",
       "      <td>3.220736</td>\n",
       "    </tr>\n",
       "    <tr>\n",
       "      <th>Perch</th>\n",
       "      <td>382.239286</td>\n",
       "      <td>63.485714</td>\n",
       "      <td>7.861870</td>\n",
       "      <td>4.745723</td>\n",
       "    </tr>\n",
       "    <tr>\n",
       "      <th>Pike</th>\n",
       "      <td>718.705882</td>\n",
       "      <td>104.198039</td>\n",
       "      <td>7.713771</td>\n",
       "      <td>5.086382</td>\n",
       "    </tr>\n",
       "    <tr>\n",
       "      <th>Roach</th>\n",
       "      <td>152.050000</td>\n",
       "      <td>51.243333</td>\n",
       "      <td>6.694795</td>\n",
       "      <td>3.657850</td>\n",
       "    </tr>\n",
       "    <tr>\n",
       "      <th>Smelt</th>\n",
       "      <td>11.178571</td>\n",
       "      <td>27.523810</td>\n",
       "      <td>2.209371</td>\n",
       "      <td>1.340093</td>\n",
       "    </tr>\n",
       "    <tr>\n",
       "      <th>Whitefish</th>\n",
       "      <td>531.000000</td>\n",
       "      <td>71.555556</td>\n",
       "      <td>10.027167</td>\n",
       "      <td>5.473050</td>\n",
       "    </tr>\n",
       "  </tbody>\n",
       "</table>\n",
       "</div>"
      ],
      "text/plain": [
       "               Weight        Mean     Height     Width\n",
       "Species                                               \n",
       "Bream      617.828571   76.199048  15.183211  5.427614\n",
       "Parkki     154.818182   46.669697   8.962427  3.220736\n",
       "Perch      382.239286   63.485714   7.861870  4.745723\n",
       "Pike       718.705882  104.198039   7.713771  5.086382\n",
       "Roach      152.050000   51.243333   6.694795  3.657850\n",
       "Smelt       11.178571   27.523810   2.209371  1.340093\n",
       "Whitefish  531.000000   71.555556  10.027167  5.473050"
      ]
     },
     "execution_count": 13,
     "metadata": {},
     "output_type": "execute_result"
    }
   ],
   "source": [
    "aa = df.groupby('Species')['Weight', 'Mean', 'Height', 'Width'].mean()\n",
    "aa"
   ]
  },
  {
   "cell_type": "code",
   "execution_count": 14,
   "id": "fe8c69a5",
   "metadata": {
    "execution": {
     "iopub.execute_input": "2023-02-20T13:46:52.284743Z",
     "iopub.status.busy": "2023-02-20T13:46:52.284321Z",
     "iopub.status.idle": "2023-02-20T13:46:52.311154Z",
     "shell.execute_reply": "2023-02-20T13:46:52.309812Z"
    },
    "papermill": {
     "duration": 0.043907,
     "end_time": "2023-02-20T13:46:52.314081",
     "exception": false,
     "start_time": "2023-02-20T13:46:52.270174",
     "status": "completed"
    },
    "tags": []
   },
   "outputs": [
    {
     "data": {
      "text/html": [
       "<div>\n",
       "<style scoped>\n",
       "    .dataframe tbody tr th:only-of-type {\n",
       "        vertical-align: middle;\n",
       "    }\n",
       "\n",
       "    .dataframe tbody tr th {\n",
       "        vertical-align: top;\n",
       "    }\n",
       "\n",
       "    .dataframe thead th {\n",
       "        text-align: right;\n",
       "    }\n",
       "</style>\n",
       "<table border=\"1\" class=\"dataframe\">\n",
       "  <thead>\n",
       "    <tr style=\"text-align: right;\">\n",
       "      <th></th>\n",
       "      <th>Mean</th>\n",
       "      <th>Height</th>\n",
       "      <th>Width</th>\n",
       "      <th>Weight</th>\n",
       "    </tr>\n",
       "  </thead>\n",
       "  <tbody>\n",
       "    <tr>\n",
       "      <th>count</th>\n",
       "      <td>159.000000</td>\n",
       "      <td>159.000000</td>\n",
       "      <td>159.000000</td>\n",
       "      <td>159.000000</td>\n",
       "    </tr>\n",
       "    <tr>\n",
       "      <th>mean</th>\n",
       "      <td>65.071908</td>\n",
       "      <td>8.970994</td>\n",
       "      <td>4.417486</td>\n",
       "      <td>398.326415</td>\n",
       "    </tr>\n",
       "    <tr>\n",
       "      <th>std</th>\n",
       "      <td>24.558245</td>\n",
       "      <td>4.286208</td>\n",
       "      <td>1.685804</td>\n",
       "      <td>357.978317</td>\n",
       "    </tr>\n",
       "    <tr>\n",
       "      <th>min</th>\n",
       "      <td>18.833333</td>\n",
       "      <td>1.728400</td>\n",
       "      <td>1.047600</td>\n",
       "      <td>0.000000</td>\n",
       "    </tr>\n",
       "    <tr>\n",
       "      <th>25%</th>\n",
       "      <td>47.550000</td>\n",
       "      <td>5.944800</td>\n",
       "      <td>3.385650</td>\n",
       "      <td>120.000000</td>\n",
       "    </tr>\n",
       "    <tr>\n",
       "      <th>50%</th>\n",
       "      <td>62.200000</td>\n",
       "      <td>7.786000</td>\n",
       "      <td>4.248500</td>\n",
       "      <td>273.000000</td>\n",
       "    </tr>\n",
       "    <tr>\n",
       "      <th>75%</th>\n",
       "      <td>81.583333</td>\n",
       "      <td>12.365900</td>\n",
       "      <td>5.584500</td>\n",
       "      <td>650.000000</td>\n",
       "    </tr>\n",
       "    <tr>\n",
       "      <th>max</th>\n",
       "      <td>145.066667</td>\n",
       "      <td>18.957000</td>\n",
       "      <td>8.142000</td>\n",
       "      <td>1650.000000</td>\n",
       "    </tr>\n",
       "  </tbody>\n",
       "</table>\n",
       "</div>"
      ],
      "text/plain": [
       "             Mean      Height       Width       Weight\n",
       "count  159.000000  159.000000  159.000000   159.000000\n",
       "mean    65.071908    8.970994    4.417486   398.326415\n",
       "std     24.558245    4.286208    1.685804   357.978317\n",
       "min     18.833333    1.728400    1.047600     0.000000\n",
       "25%     47.550000    5.944800    3.385650   120.000000\n",
       "50%     62.200000    7.786000    4.248500   273.000000\n",
       "75%     81.583333   12.365900    5.584500   650.000000\n",
       "max    145.066667   18.957000    8.142000  1650.000000"
      ]
     },
     "execution_count": 14,
     "metadata": {},
     "output_type": "execute_result"
    }
   ],
   "source": [
    "df.describe()"
   ]
  },
  {
   "cell_type": "markdown",
   "id": "37d86177",
   "metadata": {
    "papermill": {
     "duration": 0.013085,
     "end_time": "2023-02-20T13:46:52.340410",
     "exception": false,
     "start_time": "2023-02-20T13:46:52.327325",
     "status": "completed"
    },
    "tags": []
   },
   "source": [
    "# Fish Name to Numberic"
   ]
  },
  {
   "cell_type": "code",
   "execution_count": 15,
   "id": "dfd41e37",
   "metadata": {
    "execution": {
     "iopub.execute_input": "2023-02-20T13:46:52.368982Z",
     "iopub.status.busy": "2023-02-20T13:46:52.368597Z",
     "iopub.status.idle": "2023-02-20T13:46:52.377436Z",
     "shell.execute_reply": "2023-02-20T13:46:52.376112Z"
    },
    "papermill": {
     "duration": 0.026226,
     "end_time": "2023-02-20T13:46:52.379879",
     "exception": false,
     "start_time": "2023-02-20T13:46:52.353653",
     "status": "completed"
    },
    "tags": []
   },
   "outputs": [
    {
     "data": {
      "text/plain": [
       "Index(['Perch', 'Bream', 'Roach', 'Pike', 'Smelt', 'Parkki', 'Whitefish'], dtype='object')"
      ]
     },
     "execution_count": 15,
     "metadata": {},
     "output_type": "execute_result"
    }
   ],
   "source": [
    "df['Species'].value_counts().keys()"
   ]
  },
  {
   "cell_type": "code",
   "execution_count": 16,
   "id": "4c070949",
   "metadata": {
    "execution": {
     "iopub.execute_input": "2023-02-20T13:46:52.408608Z",
     "iopub.status.busy": "2023-02-20T13:46:52.408192Z",
     "iopub.status.idle": "2023-02-20T13:46:52.416870Z",
     "shell.execute_reply": "2023-02-20T13:46:52.415473Z"
    },
    "papermill": {
     "duration": 0.02639,
     "end_time": "2023-02-20T13:46:52.419705",
     "exception": false,
     "start_time": "2023-02-20T13:46:52.393315",
     "status": "completed"
    },
    "tags": []
   },
   "outputs": [],
   "source": [
    "df['Species'] = df['Species'].replace({'Perch':0, 'Bream':1, 'Roach':2, 'Pike':3, 'Smelt':4, 'Parkki':5, 'Whitefish':6})"
   ]
  },
  {
   "cell_type": "code",
   "execution_count": 17,
   "id": "92ceb97a",
   "metadata": {
    "execution": {
     "iopub.execute_input": "2023-02-20T13:46:52.449092Z",
     "iopub.status.busy": "2023-02-20T13:46:52.448712Z",
     "iopub.status.idle": "2023-02-20T13:46:52.463560Z",
     "shell.execute_reply": "2023-02-20T13:46:52.462344Z"
    },
    "papermill": {
     "duration": 0.033224,
     "end_time": "2023-02-20T13:46:52.466262",
     "exception": false,
     "start_time": "2023-02-20T13:46:52.433038",
     "status": "completed"
    },
    "tags": []
   },
   "outputs": [
    {
     "data": {
      "text/html": [
       "<div>\n",
       "<style scoped>\n",
       "    .dataframe tbody tr th:only-of-type {\n",
       "        vertical-align: middle;\n",
       "    }\n",
       "\n",
       "    .dataframe tbody tr th {\n",
       "        vertical-align: top;\n",
       "    }\n",
       "\n",
       "    .dataframe thead th {\n",
       "        text-align: right;\n",
       "    }\n",
       "</style>\n",
       "<table border=\"1\" class=\"dataframe\">\n",
       "  <thead>\n",
       "    <tr style=\"text-align: right;\">\n",
       "      <th></th>\n",
       "      <th>Species</th>\n",
       "      <th>Mean</th>\n",
       "      <th>Height</th>\n",
       "      <th>Width</th>\n",
       "      <th>Weight</th>\n",
       "    </tr>\n",
       "  </thead>\n",
       "  <tbody>\n",
       "    <tr>\n",
       "      <th>11</th>\n",
       "      <td>1</td>\n",
       "      <td>71.766667</td>\n",
       "      <td>14.3714</td>\n",
       "      <td>4.8146</td>\n",
       "      <td>500.0</td>\n",
       "    </tr>\n",
       "    <tr>\n",
       "      <th>62</th>\n",
       "      <td>5</td>\n",
       "      <td>35.600000</td>\n",
       "      <td>6.5772</td>\n",
       "      <td>2.3142</td>\n",
       "      <td>60.0</td>\n",
       "    </tr>\n",
       "    <tr>\n",
       "      <th>94</th>\n",
       "      <td>0</td>\n",
       "      <td>52.166667</td>\n",
       "      <td>5.2185</td>\n",
       "      <td>3.6260</td>\n",
       "      <td>150.0</td>\n",
       "    </tr>\n",
       "  </tbody>\n",
       "</table>\n",
       "</div>"
      ],
      "text/plain": [
       "    Species       Mean   Height   Width  Weight\n",
       "11        1  71.766667  14.3714  4.8146   500.0\n",
       "62        5  35.600000   6.5772  2.3142    60.0\n",
       "94        0  52.166667   5.2185  3.6260   150.0"
      ]
     },
     "execution_count": 17,
     "metadata": {},
     "output_type": "execute_result"
    }
   ],
   "source": [
    "df.sample(3)"
   ]
  },
  {
   "cell_type": "markdown",
   "id": "e39e73cd",
   "metadata": {
    "papermill": {
     "duration": 0.013741,
     "end_time": "2023-02-20T13:46:52.494547",
     "exception": false,
     "start_time": "2023-02-20T13:46:52.480806",
     "status": "completed"
    },
    "tags": []
   },
   "source": [
    "# Data Spliting"
   ]
  },
  {
   "cell_type": "code",
   "execution_count": 18,
   "id": "70fcc3fe",
   "metadata": {
    "execution": {
     "iopub.execute_input": "2023-02-20T13:46:52.524382Z",
     "iopub.status.busy": "2023-02-20T13:46:52.523945Z",
     "iopub.status.idle": "2023-02-20T13:46:52.530914Z",
     "shell.execute_reply": "2023-02-20T13:46:52.529408Z"
    },
    "papermill": {
     "duration": 0.024983,
     "end_time": "2023-02-20T13:46:52.533372",
     "exception": false,
     "start_time": "2023-02-20T13:46:52.508389",
     "status": "completed"
    },
    "tags": []
   },
   "outputs": [],
   "source": [
    "x = df.drop(columns=['Species','Weight'],axis=1)\n",
    "y = df['Weight']"
   ]
  },
  {
   "cell_type": "code",
   "execution_count": 19,
   "id": "f4c2c6a4",
   "metadata": {
    "execution": {
     "iopub.execute_input": "2023-02-20T13:46:52.562551Z",
     "iopub.status.busy": "2023-02-20T13:46:52.562120Z",
     "iopub.status.idle": "2023-02-20T13:46:52.776937Z",
     "shell.execute_reply": "2023-02-20T13:46:52.775592Z"
    },
    "papermill": {
     "duration": 0.232841,
     "end_time": "2023-02-20T13:46:52.779781",
     "exception": false,
     "start_time": "2023-02-20T13:46:52.546940",
     "status": "completed"
    },
    "tags": []
   },
   "outputs": [],
   "source": [
    "from sklearn.model_selection import train_test_split"
   ]
  },
  {
   "cell_type": "code",
   "execution_count": 20,
   "id": "41b925bb",
   "metadata": {
    "execution": {
     "iopub.execute_input": "2023-02-20T13:46:52.808764Z",
     "iopub.status.busy": "2023-02-20T13:46:52.808314Z",
     "iopub.status.idle": "2023-02-20T13:46:52.815835Z",
     "shell.execute_reply": "2023-02-20T13:46:52.814607Z"
    },
    "papermill": {
     "duration": 0.024897,
     "end_time": "2023-02-20T13:46:52.818284",
     "exception": false,
     "start_time": "2023-02-20T13:46:52.793387",
     "status": "completed"
    },
    "tags": []
   },
   "outputs": [],
   "source": [
    "x_train, x_test, y_train, y_test = train_test_split(x,y,test_size=0.2,random_state=42)"
   ]
  },
  {
   "cell_type": "code",
   "execution_count": 21,
   "id": "2e228c44",
   "metadata": {
    "execution": {
     "iopub.execute_input": "2023-02-20T13:46:52.848238Z",
     "iopub.status.busy": "2023-02-20T13:46:52.847804Z",
     "iopub.status.idle": "2023-02-20T13:46:52.855560Z",
     "shell.execute_reply": "2023-02-20T13:46:52.854222Z"
    },
    "papermill": {
     "duration": 0.02577,
     "end_time": "2023-02-20T13:46:52.858102",
     "exception": false,
     "start_time": "2023-02-20T13:46:52.832332",
     "status": "completed"
    },
    "tags": []
   },
   "outputs": [
    {
     "data": {
      "text/plain": [
       "((127, 3), (127,), (32, 3), (32,))"
      ]
     },
     "execution_count": 21,
     "metadata": {},
     "output_type": "execute_result"
    }
   ],
   "source": [
    "x_train.shape,y_train.shape,x_test.shape,y_test.shape"
   ]
  },
  {
   "cell_type": "markdown",
   "id": "afb0db0a",
   "metadata": {
    "papermill": {
     "duration": 0.013602,
     "end_time": "2023-02-20T13:46:52.885194",
     "exception": false,
     "start_time": "2023-02-20T13:46:52.871592",
     "status": "completed"
    },
    "tags": []
   },
   "source": [
    "# liner Reg"
   ]
  },
  {
   "cell_type": "code",
   "execution_count": 22,
   "id": "676dd94e",
   "metadata": {
    "execution": {
     "iopub.execute_input": "2023-02-20T13:46:52.915783Z",
     "iopub.status.busy": "2023-02-20T13:46:52.914659Z",
     "iopub.status.idle": "2023-02-20T13:46:52.995874Z",
     "shell.execute_reply": "2023-02-20T13:46:52.994485Z"
    },
    "papermill": {
     "duration": 0.09912,
     "end_time": "2023-02-20T13:46:52.998709",
     "exception": false,
     "start_time": "2023-02-20T13:46:52.899589",
     "status": "completed"
    },
    "tags": []
   },
   "outputs": [],
   "source": [
    "from sklearn.linear_model import LinearRegression\n",
    "from sklearn.metrics import r2_score"
   ]
  },
  {
   "cell_type": "code",
   "execution_count": 23,
   "id": "a6855c28",
   "metadata": {
    "execution": {
     "iopub.execute_input": "2023-02-20T13:46:53.028724Z",
     "iopub.status.busy": "2023-02-20T13:46:53.028284Z",
     "iopub.status.idle": "2023-02-20T13:46:53.053737Z",
     "shell.execute_reply": "2023-02-20T13:46:53.052621Z"
    },
    "papermill": {
     "duration": 0.043087,
     "end_time": "2023-02-20T13:46:53.056220",
     "exception": false,
     "start_time": "2023-02-20T13:46:53.013133",
     "status": "completed"
    },
    "tags": []
   },
   "outputs": [
    {
     "data": {
      "text/plain": [
       "LinearRegression()"
      ]
     },
     "execution_count": 23,
     "metadata": {},
     "output_type": "execute_result"
    }
   ],
   "source": [
    "liner = LinearRegression()\n",
    "model = liner.fit(x_train,y_train)\n",
    "model"
   ]
  },
  {
   "cell_type": "markdown",
   "id": "e6da6e44",
   "metadata": {
    "papermill": {
     "duration": 0.015292,
     "end_time": "2023-02-20T13:46:53.085381",
     "exception": false,
     "start_time": "2023-02-20T13:46:53.070089",
     "status": "completed"
    },
    "tags": []
   },
   "source": [
    "# Linear Reg Testing"
   ]
  },
  {
   "cell_type": "code",
   "execution_count": 24,
   "id": "f7bb8cc2",
   "metadata": {
    "execution": {
     "iopub.execute_input": "2023-02-20T13:46:53.114478Z",
     "iopub.status.busy": "2023-02-20T13:46:53.113499Z",
     "iopub.status.idle": "2023-02-20T13:46:53.124026Z",
     "shell.execute_reply": "2023-02-20T13:46:53.122844Z"
    },
    "papermill": {
     "duration": 0.028542,
     "end_time": "2023-02-20T13:46:53.127327",
     "exception": false,
     "start_time": "2023-02-20T13:46:53.098785",
     "status": "completed"
    },
    "tags": []
   },
   "outputs": [
    {
     "data": {
      "text/plain": [
       "array([  70.16217177, -173.90088974,  389.83461245,  318.21715396,\n",
       "        192.30318558,  773.24430744, -224.57942293,  279.47463281,\n",
       "        268.55363122, 1128.68618282,  619.98703877,  777.42589117,\n",
       "        587.10617391,  148.95611112,  657.58408006,  783.54744712,\n",
       "        928.65817781,  318.0135542 ,  238.00941739,  589.81643179,\n",
       "       -185.89856618,  599.73125083,  501.7487081 ,  521.32101552,\n",
       "        782.94592086,  884.57610034,  217.83304285,  327.56191332,\n",
       "       -247.24371292, -191.74279379,  681.00767273,   29.9464914 ])"
      ]
     },
     "execution_count": 24,
     "metadata": {},
     "output_type": "execute_result"
    }
   ],
   "source": [
    "y_pred = model.predict(x_test)\n",
    "y_pred"
   ]
  },
  {
   "cell_type": "markdown",
   "id": "63378011",
   "metadata": {
    "papermill": {
     "duration": 0.013485,
     "end_time": "2023-02-20T13:46:53.154863",
     "exception": false,
     "start_time": "2023-02-20T13:46:53.141378",
     "status": "completed"
    },
    "tags": []
   },
   "source": [
    "## R2_Score"
   ]
  },
  {
   "cell_type": "code",
   "execution_count": 25,
   "id": "1cf1f4e0",
   "metadata": {
    "execution": {
     "iopub.execute_input": "2023-02-20T13:46:53.184593Z",
     "iopub.status.busy": "2023-02-20T13:46:53.183623Z",
     "iopub.status.idle": "2023-02-20T13:46:53.191200Z",
     "shell.execute_reply": "2023-02-20T13:46:53.189467Z"
    },
    "papermill": {
     "duration": 0.025782,
     "end_time": "2023-02-20T13:46:53.194336",
     "exception": false,
     "start_time": "2023-02-20T13:46:53.168554",
     "status": "completed"
    },
    "tags": []
   },
   "outputs": [
    {
     "name": "stdout",
     "output_type": "stream",
     "text": [
      "r2 score: 0.875558137928268\n"
     ]
    }
   ],
   "source": [
    "r2_scr_te = r2_score(y_test,y_pred)\n",
    "print('r2 score:',r2_scr_te)"
   ]
  },
  {
   "cell_type": "markdown",
   "id": "9cba5943",
   "metadata": {
    "papermill": {
     "duration": 0.013465,
     "end_time": "2023-02-20T13:46:53.221758",
     "exception": false,
     "start_time": "2023-02-20T13:46:53.208293",
     "status": "completed"
    },
    "tags": []
   },
   "source": [
    "# Desiton Tree"
   ]
  },
  {
   "cell_type": "code",
   "execution_count": 26,
   "id": "ce7f5c38",
   "metadata": {
    "execution": {
     "iopub.execute_input": "2023-02-20T13:46:53.252113Z",
     "iopub.status.busy": "2023-02-20T13:46:53.251715Z",
     "iopub.status.idle": "2023-02-20T13:46:53.337702Z",
     "shell.execute_reply": "2023-02-20T13:46:53.336292Z"
    },
    "papermill": {
     "duration": 0.104295,
     "end_time": "2023-02-20T13:46:53.340529",
     "exception": false,
     "start_time": "2023-02-20T13:46:53.236234",
     "status": "completed"
    },
    "tags": []
   },
   "outputs": [],
   "source": [
    "from sklearn.tree import DecisionTreeRegressor"
   ]
  },
  {
   "cell_type": "code",
   "execution_count": 27,
   "id": "2a5c916c",
   "metadata": {
    "execution": {
     "iopub.execute_input": "2023-02-20T13:46:53.370436Z",
     "iopub.status.busy": "2023-02-20T13:46:53.369372Z",
     "iopub.status.idle": "2023-02-20T13:46:53.381357Z",
     "shell.execute_reply": "2023-02-20T13:46:53.380397Z"
    },
    "papermill": {
     "duration": 0.029162,
     "end_time": "2023-02-20T13:46:53.383620",
     "exception": false,
     "start_time": "2023-02-20T13:46:53.354458",
     "status": "completed"
    },
    "tags": []
   },
   "outputs": [
    {
     "data": {
      "text/plain": [
       "DecisionTreeRegressor(max_leaf_nodes=10)"
      ]
     },
     "execution_count": 27,
     "metadata": {},
     "output_type": "execute_result"
    }
   ],
   "source": [
    "dt = DecisionTreeRegressor(max_leaf_nodes=10)\n",
    "model_dec = dt.fit(x_train,y_train)\n",
    "model_dec"
   ]
  },
  {
   "cell_type": "markdown",
   "id": "e204e9ee",
   "metadata": {
    "papermill": {
     "duration": 0.014112,
     "end_time": "2023-02-20T13:46:53.411826",
     "exception": false,
     "start_time": "2023-02-20T13:46:53.397714",
     "status": "completed"
    },
    "tags": []
   },
   "source": [
    "# Decision Tree Testing "
   ]
  },
  {
   "cell_type": "code",
   "execution_count": 28,
   "id": "c3ea2178",
   "metadata": {
    "execution": {
     "iopub.execute_input": "2023-02-20T13:46:53.442300Z",
     "iopub.status.busy": "2023-02-20T13:46:53.441117Z",
     "iopub.status.idle": "2023-02-20T13:46:53.451812Z",
     "shell.execute_reply": "2023-02-20T13:46:53.450668Z"
    },
    "papermill": {
     "duration": 0.028793,
     "end_time": "2023-02-20T13:46:53.454335",
     "exception": false,
     "start_time": "2023-02-20T13:46:53.425542",
     "status": "completed"
    },
    "tags": []
   },
   "outputs": [
    {
     "data": {
      "text/plain": [
       "array([  48.44074074,   48.44074074,  356.        ,  275.66666667,\n",
       "        143.39285714,  742.61538462,   48.44074074,  275.66666667,\n",
       "        143.39285714, 1600.        ,  500.        ,  928.84615385,\n",
       "        636.        ,   48.44074074,  742.61538462,  742.61538462,\n",
       "        928.84615385,  275.66666667,  143.39285714,  636.        ,\n",
       "         48.44074074,  472.44444444,  356.        ,  472.44444444,\n",
       "        742.61538462,  928.84615385,  143.39285714,  275.66666667,\n",
       "         48.44074074,   48.44074074,  356.        ,   48.44074074])"
      ]
     },
     "execution_count": 28,
     "metadata": {},
     "output_type": "execute_result"
    }
   ],
   "source": [
    "y_pred_dec = model_dec.predict(x_test)\n",
    "y_pred_dec"
   ]
  },
  {
   "cell_type": "markdown",
   "id": "37f15efa",
   "metadata": {
    "papermill": {
     "duration": 0.015024,
     "end_time": "2023-02-20T13:46:53.484133",
     "exception": false,
     "start_time": "2023-02-20T13:46:53.469109",
     "status": "completed"
    },
    "tags": []
   },
   "source": [
    "## R2_Score"
   ]
  },
  {
   "cell_type": "code",
   "execution_count": 29,
   "id": "31646c3d",
   "metadata": {
    "execution": {
     "iopub.execute_input": "2023-02-20T13:46:53.516815Z",
     "iopub.status.busy": "2023-02-20T13:46:53.515244Z",
     "iopub.status.idle": "2023-02-20T13:46:53.525042Z",
     "shell.execute_reply": "2023-02-20T13:46:53.522732Z"
    },
    "papermill": {
     "duration": 0.028586,
     "end_time": "2023-02-20T13:46:53.528007",
     "exception": false,
     "start_time": "2023-02-20T13:46:53.499421",
     "status": "completed"
    },
    "tags": []
   },
   "outputs": [
    {
     "name": "stdout",
     "output_type": "stream",
     "text": [
      "r2 score: 0.8980235275268711\n"
     ]
    }
   ],
   "source": [
    "r2_scr_dt_te = r2_score(y_test,y_pred_dec)\n",
    "print('r2 score:',r2_scr_dt_te)"
   ]
  },
  {
   "cell_type": "markdown",
   "id": "88d8e4c5",
   "metadata": {
    "papermill": {
     "duration": 0.014394,
     "end_time": "2023-02-20T13:46:53.557899",
     "exception": false,
     "start_time": "2023-02-20T13:46:53.543505",
     "status": "completed"
    },
    "tags": []
   },
   "source": [
    "# Random Forest"
   ]
  },
  {
   "cell_type": "code",
   "execution_count": 30,
   "id": "f9429080",
   "metadata": {
    "execution": {
     "iopub.execute_input": "2023-02-20T13:46:53.589522Z",
     "iopub.status.busy": "2023-02-20T13:46:53.589007Z",
     "iopub.status.idle": "2023-02-20T13:46:53.666763Z",
     "shell.execute_reply": "2023-02-20T13:46:53.664707Z"
    },
    "papermill": {
     "duration": 0.097833,
     "end_time": "2023-02-20T13:46:53.669858",
     "exception": false,
     "start_time": "2023-02-20T13:46:53.572025",
     "status": "completed"
    },
    "tags": []
   },
   "outputs": [],
   "source": [
    "from sklearn.ensemble import RandomForestRegressor"
   ]
  },
  {
   "cell_type": "code",
   "execution_count": 31,
   "id": "aca791b7",
   "metadata": {
    "execution": {
     "iopub.execute_input": "2023-02-20T13:46:53.702073Z",
     "iopub.status.busy": "2023-02-20T13:46:53.701657Z",
     "iopub.status.idle": "2023-02-20T13:46:53.868523Z",
     "shell.execute_reply": "2023-02-20T13:46:53.867147Z"
    },
    "papermill": {
     "duration": 0.186251,
     "end_time": "2023-02-20T13:46:53.871311",
     "exception": false,
     "start_time": "2023-02-20T13:46:53.685060",
     "status": "completed"
    },
    "tags": []
   },
   "outputs": [
    {
     "data": {
      "text/plain": [
       "RandomForestRegressor()"
      ]
     },
     "execution_count": 31,
     "metadata": {},
     "output_type": "execute_result"
    }
   ],
   "source": [
    "rf = RandomForestRegressor()\n",
    "model_rf = rf.fit(x_train,y_train)\n",
    "model_rf"
   ]
  },
  {
   "cell_type": "markdown",
   "id": "d3c4fba5",
   "metadata": {
    "papermill": {
     "duration": 0.01444,
     "end_time": "2023-02-20T13:46:53.900770",
     "exception": false,
     "start_time": "2023-02-20T13:46:53.886330",
     "status": "completed"
    },
    "tags": []
   },
   "source": [
    "# Rendom Forest Testing"
   ]
  },
  {
   "cell_type": "code",
   "execution_count": 32,
   "id": "b20bc66c",
   "metadata": {
    "execution": {
     "iopub.execute_input": "2023-02-20T13:46:53.935253Z",
     "iopub.status.busy": "2023-02-20T13:46:53.934567Z",
     "iopub.status.idle": "2023-02-20T13:46:53.953158Z",
     "shell.execute_reply": "2023-02-20T13:46:53.951751Z"
    },
    "papermill": {
     "duration": 0.039799,
     "end_time": "2023-02-20T13:46:53.957163",
     "exception": false,
     "start_time": "2023-02-20T13:46:53.917364",
     "status": "completed"
    },
    "scrolled": true,
    "tags": []
   },
   "outputs": [
    {
     "data": {
      "text/plain": [
       "array([  80.77      ,   11.195     ,  298.05      ,  278.02      ,\n",
       "        140.24      ,  809.05      ,    8.035     ,  215.25      ,\n",
       "        188.34      , 1543.74166667,  602.34      ,  915.55      ,\n",
       "        573.02      ,  115.82      ,  705.17      ,  839.31      ,\n",
       "       1013.65      ,  265.78      ,  173.3       ,  632.77      ,\n",
       "         10.097     ,  522.87      ,  369.64      ,  467.52      ,\n",
       "        839.31      , 1010.55      ,  153.8       ,  274.32      ,\n",
       "          8.035     ,   10.114     ,  419.89      ,   77.715     ])"
      ]
     },
     "execution_count": 32,
     "metadata": {},
     "output_type": "execute_result"
    }
   ],
   "source": [
    "y_pred_rf = model_rf.predict(x_test)\n",
    "y_pred_rf"
   ]
  },
  {
   "cell_type": "markdown",
   "id": "05261ba4",
   "metadata": {
    "papermill": {
     "duration": 0.016739,
     "end_time": "2023-02-20T13:46:53.988477",
     "exception": false,
     "start_time": "2023-02-20T13:46:53.971738",
     "status": "completed"
    },
    "tags": []
   },
   "source": [
    "## R2_Score"
   ]
  },
  {
   "cell_type": "code",
   "execution_count": 33,
   "id": "7b881575",
   "metadata": {
    "execution": {
     "iopub.execute_input": "2023-02-20T13:46:54.039717Z",
     "iopub.status.busy": "2023-02-20T13:46:54.038845Z",
     "iopub.status.idle": "2023-02-20T13:46:54.046331Z",
     "shell.execute_reply": "2023-02-20T13:46:54.044854Z"
    },
    "papermill": {
     "duration": 0.038254,
     "end_time": "2023-02-20T13:46:54.050381",
     "exception": false,
     "start_time": "2023-02-20T13:46:54.012127",
     "status": "completed"
    },
    "tags": []
   },
   "outputs": [
    {
     "name": "stdout",
     "output_type": "stream",
     "text": [
      "r2 score: 0.9523771488430419\n"
     ]
    }
   ],
   "source": [
    "r2_scr_rf_te = r2_score(y_test,y_pred_rf)\n",
    "print('r2 score:',r2_scr_rf_te)"
   ]
  }
 ],
 "metadata": {
  "kernelspec": {
   "display_name": "Python 3",
   "language": "python",
   "name": "python3"
  },
  "language_info": {
   "codemirror_mode": {
    "name": "ipython",
    "version": 3
   },
   "file_extension": ".py",
   "mimetype": "text/x-python",
   "name": "python",
   "nbconvert_exporter": "python",
   "pygments_lexer": "ipython3",
   "version": "3.7.12"
  },
  "papermill": {
   "default_parameters": {},
   "duration": 14.338674,
   "end_time": "2023-02-20T13:46:54.897847",
   "environment_variables": {},
   "exception": null,
   "input_path": "__notebook__.ipynb",
   "output_path": "__notebook__.ipynb",
   "parameters": {},
   "start_time": "2023-02-20T13:46:40.559173",
   "version": "2.3.4"
  }
 },
 "nbformat": 4,
 "nbformat_minor": 5
}
